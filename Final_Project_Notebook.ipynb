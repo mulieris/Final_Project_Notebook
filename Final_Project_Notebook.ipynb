{
  "metadata": {
    "kernelspec": {
      "name": "python",
      "display_name": "Python (Pyodide)",
      "language": "python"
    },
    "language_info": {
      "codemirror_mode": {
        "name": "python",
        "version": 3
      },
      "file_extension": ".py",
      "mimetype": "text/x-python",
      "name": "python",
      "nbconvert_exporter": "python",
      "pygments_lexer": "ipython3",
      "version": "3.8"
    }
  },
  "nbformat_minor": 4,
  "nbformat": 4,
  "cells": [
    {
      "cell_type": "markdown",
      "source": "# Final Project Notebook",
      "metadata": {}
    },
    {
      "cell_type": "markdown",
      "source": "## Introduction\nThis notebook is created as the final project for the course. It demonstrates the use of essential data science tools.",
      "metadata": {}
    },
    {
      "cell_type": "markdown",
      "source": "## Data Science Languages\n- Python\n- R\n- SQL\n- Julia\n- Scala",
      "metadata": {}
    },
    {
      "cell_type": "markdown",
      "source": "## Data Science Libraries\n- NumPy\n- pandas\n- Matplotlib\n- Scikit-learn\n- TensorFlow",
      "metadata": {}
    },
    {
      "cell_type": "markdown",
      "source": "## Data Science Tools\n\n| Tool              | Category           |\n|--------------------|--------------------|\n| Jupyter Notebook  | IDE               |\n| RStudio           | IDE               |\n| Apache Hadoop     | Big Data Tools    |\n| Tableau           | Visualization     |\n| MATLAB            | Data Analysis     |",
      "metadata": {}
    },
    {
      "cell_type": "markdown",
      "source": "## Arithmetic Expressions\nFor example: `2 + 3 * 4 = 14`.",
      "metadata": {}
    },
    {
      "cell_type": "code",
      "source": "a = 5\nb = 10\nresult = a * b + 20\nprint(\"Result:\", result)",
      "metadata": {
        "trusted": true
      },
      "outputs": [
        {
          "name": "stdout",
          "text": "Result: 70\n",
          "output_type": "stream"
        }
      ],
      "execution_count": 4
    },
    {
      "cell_type": "code",
      "source": "minutes = 150\nhours = minutes / 60\nprint(f\"{minutes} minutes is equal to {hours:.2f} hours\")",
      "metadata": {
        "trusted": true
      },
      "outputs": [
        {
          "name": "stdout",
          "text": "150 minutes is equal to 2.50 hours\n",
          "output_type": "stream"
        }
      ],
      "execution_count": 5
    },
    {
      "cell_type": "markdown",
      "source": "## Goals\n- Learn how to work with data.\n- Use data science tools effectively.\n- Create analytical visualizations.",
      "metadata": {}
    },
    {
      "cell_type": "markdown",
      "source": "## Author\n**EWELINA KASPROWICZ**\n",
      "metadata": {}
    }
  ]
}